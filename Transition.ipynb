{
 "cells": [
  {
   "cell_type": "markdown",
   "id": "bab3c47d-9553-4563-8640-ad62ebc7fba8",
   "metadata": {},
   "source": [
    "\n",
    "## GreenShift: A Tool for Analyzing Land Use and Land Cover Transitions ##\n",
    "This script reads multi-year raster (GeoTIFF) data to identify and quantify land cover changes between different years. \n",
    "The output includes a CSV file with transition statistics and GeoTIFF files visualizing the changes.\n"
   ]
  },
  {
   "cell_type": "code",
   "execution_count": 26,
   "id": "ed38380b-009d-4db4-bd37-30e382431207",
   "metadata": {},
   "outputs": [],
   "source": [
    "import os\n",
    "import rasterio\n",
    "import numpy as np\n",
    "import pandas as pd\n",
    "import matplotlib.pyplot as plt\n",
    "import seaborn as sns"
   ]
  },
  {
   "cell_type": "markdown",
   "id": "58b76741-5883-4f73-9247-d30529cf26ae",
   "metadata": {},
   "source": [
    "## Define the input folder containing the raster data and the output path for the CSV summary"
   ]
  },
  {
   "cell_type": "code",
   "execution_count": 27,
   "id": "9d9698ab-cec1-47c5-a0d5-b8fb6f14e40c",
   "metadata": {},
   "outputs": [],
   "source": [
    "\n",
    "input_folder =r\"D:\\pythonCourse05-04-2024\\Git_Hub\\LULC_TMF_Data\"\n",
    "output_csv_path = r\"D:\\pythonCourse05-04-2024\\Git_Hub\\LULC_TMF_Data\\Transition.csv\""
   ]
  },
  {
   "cell_type": "markdown",
   "id": "c4353c64-e3b7-4124-bd90-19b0c1506567",
   "metadata": {},
   "source": [
    "## Define the years to analyze for land cover transitions."
   ]
  },
  {
   "cell_type": "code",
   "execution_count": 28,
   "id": "a2deadce-735f-4ced-b086-25625d9bb7d0",
   "metadata": {},
   "outputs": [],
   "source": [
    "years = [1990, 1995, 2000, 2005, 2010, 2015, 2020 ]"
   ]
  },
  {
   "cell_type": "markdown",
   "id": "ed50ff9d-a241-4eb6-a164-d39c45746766",
   "metadata": {},
   "source": [
    "## Initialize an empty list to store the transition results."
   ]
  },
  {
   "cell_type": "code",
   "execution_count": 29,
   "id": "efb985e5-7bb3-4a50-8431-934c65770fc1",
   "metadata": {},
   "outputs": [],
   "source": [
    "results = []\n"
   ]
  },
  {
   "cell_type": "markdown",
   "id": "510023e9-66f9-44a0-bcdf-eca60e6b4f61",
   "metadata": {},
   "source": [
    "## Function to calculate area in hectares"
   ]
  },
  {
   "cell_type": "code",
   "execution_count": 30,
   "id": "4f7ca221-d8aa-4e27-b062-0ceab15148c1",
   "metadata": {},
   "outputs": [],
   "source": [
    "\n",
    "def calculate_area(pixel_sum, pixel_size):\n",
    "    # Convert pixel size from square meters to hectares (1 hectare = 10,000 m²)\n",
    "    area_ha = (pixel_sum * pixel_size) / 10000\n",
    "    return area_ha\n"
   ]
  },
  {
   "cell_type": "markdown",
   "id": "7fa18355-9f8f-4927-9a61-71eaca1acc5d",
   "metadata": {},
   "source": [
    "## Loop through each consecutive pair of years to compare land cover."
   ]
  },
  {
   "cell_type": "code",
   "execution_count": 31,
   "id": "5ce27e43-6d0b-48a1-acf1-d90ddb0f9a9b",
   "metadata": {},
   "outputs": [
    {
     "name": "stdout",
     "output_type": "stream",
     "text": [
      "Transition raster for 1990-1995 saved to D:\\pythonCourse05-04-2024\\Git_Hub\\LULC_TMF_Data\\LULC_transition_1990_1995.tif\n",
      "Transition raster for 1995-2000 saved to D:\\pythonCourse05-04-2024\\Git_Hub\\LULC_TMF_Data\\LULC_transition_1995_2000.tif\n",
      "Transition raster for 2000-2005 saved to D:\\pythonCourse05-04-2024\\Git_Hub\\LULC_TMF_Data\\LULC_transition_2000_2005.tif\n",
      "Transition raster for 2005-2010 saved to D:\\pythonCourse05-04-2024\\Git_Hub\\LULC_TMF_Data\\LULC_transition_2005_2010.tif\n",
      "Transition raster for 2010-2015 saved to D:\\pythonCourse05-04-2024\\Git_Hub\\LULC_TMF_Data\\LULC_transition_2010_2015.tif\n",
      "Transition raster for 2015-2020 saved to D:\\pythonCourse05-04-2024\\Git_Hub\\LULC_TMF_Data\\LULC_transition_2015_2020.tif\n"
     ]
    }
   ],
   "source": [
    "for i in range(len(years) - 1):\n",
    "    year1 = years[i]\n",
    "    year2 = years[i + 1]\n",
    "    raster1_path = os.path.join(input_folder, f\"{year1}.tif\")\n",
    "    raster2_path = os.path.join(input_folder, f\"{year2}.tif\")\n",
    "    \n",
    "    # Define a specific output path for the current year transition GeoTIFF\n",
    "    output_tif_path = os.path.join(input_folder, f\"LULC_transition_{year1}_{year2}.tif\")\n",
    "\n",
    "    # Check if both raster files exist\n",
    "    if not os.path.exists(raster1_path) or not os.path.exists(raster2_path):\n",
    "        print(f\"Skipping year pair {year1}-{year2} due to missing file(s).\")\n",
    "        continue\n",
    "\n",
    "    # Open the raster files\n",
    "    with rasterio.open(raster1_path) as raster1, rasterio.open(raster2_path) as raster2:\n",
    "        # Read the raster data\n",
    "        data1 = raster1.read(1)\n",
    "        data2 = raster2.read(1)\n",
    "\n",
    "        # Calculate pixel size (assuming square pixels)\n",
    "        pixel_size = raster1.res[0] * raster1.res[1]\n",
    "\n",
    "        # Create an empty array for storing transitions for GeoTIFF output\n",
    "        transition_raster = np.zeros_like(data1, dtype=np.uint16) \n",
    "\n",
    "        # Loop through each unique value in the first raster\n",
    "        for ref_class in np.unique(data1):\n",
    "            if ref_class == raster1.nodata:\n",
    "                continue\n",
    "\n",
    "            # Mask to get the corresponding values in the second raster\n",
    "            mask = data1 == ref_class\n",
    "            new_classes, counts = np.unique(data2[mask], return_counts=True)\n",
    "\n",
    "            # If no new class found, add an entry for no change\n",
    "            if len(new_classes) == 0:\n",
    "                change_class = f\"C_{int(ref_class)} - NoChange\"  # Prefix to avoid date interpretation\n",
    "                pixel_sum = np.sum(mask)  # Total pixels with the reference class\n",
    "                area_ha = calculate_area(pixel_sum, pixel_size)\n",
    "\n",
    "                # Append the result to the results list\n",
    "                results.append({\n",
    "                    'Year': f\"{year1}-{year2}\",\n",
    "                    'ReferenceClass': int(ref_class),\n",
    "                    'NewClass': 'NoChange',\n",
    "                    'ChangeClass': change_class,\n",
    "                    'PixelSum': pixel_sum,\n",
    "                    'Area (Ha)': area_ha\n",
    "                })\n",
    "\n",
    "            # Loop through each new class and calculate the transition\n",
    "            for new_class, pixel_sum in zip(new_classes, counts):\n",
    "                if new_class == raster2.nodata:\n",
    "                    continue\n",
    "\n",
    "                # Format the change class with a prefix\n",
    "                change_class = f\"{int(ref_class)} - {int(new_class)}\"  # Prefix to avoid date interpretation\n",
    "                area_ha = calculate_area(pixel_sum, pixel_size)\n",
    "\n",
    "                # Append the result to the results list\n",
    "                results.append({\n",
    "                    'Year': f\"{year1}-{year2}\",\n",
    "                    'ReferenceClass': int(ref_class),\n",
    "                    'NewClass': int(new_class),\n",
    "                    'ChangeClass': change_class,\n",
    "                    'PixelSum': pixel_sum,\n",
    "                    'Area (Ha)': area_ha\n",
    "                })\n",
    "\n",
    "                # Add transition info to transition_raster for GeoTIFF output (arbitrary example of transition code)\n",
    "                transition_code = ref_class * 1000 + new_class  # Example: encode transitions uniquely\n",
    "                transition_raster[mask & (data2 == new_class)] = transition_code\n",
    "\n",
    "        # Save the transition raster for the specific year pair as GeoTIFF\n",
    "        with rasterio.open(\n",
    "            output_tif_path,\n",
    "            'w',\n",
    "            driver='GTiff',\n",
    "            height=transition_raster.shape[0],\n",
    "            width=transition_raster.shape[1],\n",
    "            count=1,\n",
    "            dtype=transition_raster.dtype,\n",
    "            crs=raster1.crs,  # Use the CRS of the original rasters\n",
    "            transform=raster1.transform\n",
    "        ) as dst:\n",
    "            dst.write(transition_raster, 1)\n",
    "        \n",
    "        print(f\"Transition raster for {year1}-{year2} saved to {output_tif_path}\")\n"
   ]
  },
  {
   "cell_type": "markdown",
   "id": "29f088b1-5138-46cc-8a1a-106e4fcddaae",
   "metadata": {},
   "source": [
    "## Convert results to a DataFrame and save to Excel"
   ]
  },
  {
   "cell_type": "code",
   "execution_count": 32,
   "id": "cfdec3c3-b282-4cda-a366-60e0ae2eec19",
   "metadata": {},
   "outputs": [
    {
     "name": "stdout",
     "output_type": "stream",
     "text": [
      "Results saved to D:\\pythonCourse05-04-2024\\Git_Hub\\LULC_TMF_Data\\LULC_changes.xlsx\n"
     ]
    }
   ],
   "source": [
    "\n",
    "df = pd.DataFrame(results)\n",
    "\n",
    "# Specify the path for the output Excel file\n",
    "output_excel_path = os.path.join(input_folder, 'LULC_changes.xlsx')\n",
    "\n",
    "# Save to Excel\n",
    "df.to_excel(output_excel_path, index=False, engine='openpyxl')\n",
    "print(f\"Results saved to {output_excel_path}\")\n"
   ]
  },
  {
   "cell_type": "markdown",
   "id": "8967def8-bb42-4e07-a4bf-dbd0578b6615",
   "metadata": {},
   "source": [
    "## Automated Visualization"
   ]
  },
  {
   "cell_type": "code",
   "execution_count": 38,
   "id": "c9a0ef77-74ef-4d9b-b5af-948cb23bb03e",
   "metadata": {},
   "outputs": [
    {
     "data": {
      "text/plain": [
       "<Figure size 1200x600 with 0 Axes>"
      ]
     },
     "metadata": {},
     "output_type": "display_data"
    },
    {
     "data": {
      "image/png": "[encoded data removed]",
      "text/plain": [
       "<Figure size 1200x600 with 1 Axes>"
      ]
     },
     "metadata": {},
     "output_type": "display_data"
    }
   ],
   "source": [
    "\n",
    "# Group by year and reference class to prepare data for visualization\n",
    "visualization_data = df.groupby(['Year', 'ReferenceClass'])['Area (Ha)'].sum().unstack().fillna(0)\n",
    "\n",
    "# Set the style using seaborn\n",
    "sns.set(style='whitegrid')\n",
    "\n",
    "# Plotting the land cover transitions\n",
    "plt.figure(figsize=(12, 6))  # Increase figure size for better visibility\n",
    "ax = visualization_data.plot(kind='bar', stacked=True, figsize=(12, 6), width=0.5)  # Thinner bars\n",
    "\n",
    "# Customize the aesthetics\n",
    "plt.title('Land Cover Transitions Over the Years', fontsize=16, fontweight='bold')\n",
    "plt.xlabel('Year', fontsize=14)\n",
    "plt.ylabel('Area (Ha)', fontsize=14)\n",
    "plt.xticks(rotation=45)\n",
    "plt.legend(title='Land Cover Class', bbox_to_anchor=(1.05, 1), loc='upper left', fontsize=12)\n",
    "plt.grid(axis='y', linestyle='--', alpha=0.7)  # Add horizontal grid lines\n",
    "\n",
    "# Set x and y limits for better fit\n",
    "plt.xlim(-0.5, len(visualization_data) - 0.5)\n",
    "plt.ylim(0, visualization_data.sum(axis=1).max() * 1.1)  # 10% padding on the top\n",
    "\n",
    "# Save the plot to a file\n",
    "plt.tight_layout()\n",
    "plt.savefig(os.path.join(input_folder, 'land_cover_transitions.png'), dpi=300)  # Save with high resolution\n",
    "plt.show()\n"
   ]
  },
  {
   "cell_type": "code",
   "execution_count": null,
   "id": "651696d8-19b1-4ee0-91bc-638958bab0db",
   "metadata": {},
   "outputs": [],
   "source": []
  }
 ],
 "metadata": {
  "kernelspec": {
   "display_name": "Python 3 (ipykernel)",
   "language": "python",
   "name": "python3"
  },
  "language_info": {
   "codemirror_mode": {
    "name": "ipython",
    "version": 3
   },
   "file_extension": ".py",
   "mimetype": "text/x-python",
   "name": "python",
   "nbconvert_exporter": "python",
   "pygments_lexer": "ipython3",
   "version": "3.12.3"
  }
 },
 "nbformat": 4,
 "nbformat_minor": 5
}
